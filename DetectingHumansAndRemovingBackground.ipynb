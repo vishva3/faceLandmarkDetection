{
 "cells": [
  {
   "cell_type": "code",
   "execution_count": 1,
   "metadata": {},
   "outputs": [],
   "source": [
    "import cv2\n",
    "import cvzone\n",
    "from cvzone.SelfiSegmentationModule import SelfiSegmentation\n",
    "import os"
   ]
  },
  {
   "cell_type": "code",
   "execution_count": 34,
   "metadata": {},
   "outputs": [
    {
     "data": {
      "text/plain": [
       "<function destroyAllWindows>"
      ]
     },
     "execution_count": 34,
     "metadata": {},
     "output_type": "execute_result"
    },
    {
     "ename": "",
     "evalue": "",
     "output_type": "error",
     "traceback": [
      "\u001b[1;31mThe Kernel crashed while executing code in the the current cell or a previous cell. Please review the code in the cell(s) to identify a possible cause of the failure. Click <a href='https://aka.ms/vscodeJupyterKernelCrash'>here</a> for more info. View Jupyter <a href='command:jupyter.viewOutput'>log</a> for further details."
     ]
    }
   ],
   "source": [
    "# To open our webcam\n",
    "cap = cv2.VideoCapture(0)\n",
    "# Setting the frame to 640 and height to 480\n",
    "cap.set(3, 640)\n",
    "cap.set(4, 480)\n",
    "\n",
    "# Display it\n",
    "while True:\n",
    "    success, img = cap.read()\n",
    "    cv2.imshow(\"Image\", img)\n",
    "    if cv2.waitKey(1) & 0xFF == ord('q'):\n",
    "        break\n",
    "cap.release()\n",
    "cv2.destroyAllWindows"
   ]
  },
  {
   "cell_type": "markdown",
   "metadata": {},
   "source": [
    "Detects Humans and removes the background"
   ]
  },
  {
   "cell_type": "code",
   "execution_count": 2,
   "metadata": {},
   "outputs": [
    {
     "data": {
      "text/plain": [
       "<function destroyAllWindows>"
      ]
     },
     "execution_count": 2,
     "metadata": {},
     "output_type": "execute_result"
    }
   ],
   "source": [
    "cap = cv2.VideoCapture(0)\n",
    "cap.set(3, 640)\n",
    "cap.set(4, 480)\n",
    "\n",
    "# Increasing the FPS \n",
    "# cap.set(cv2.CAP_PROP_FPS, 60)\n",
    "\n",
    "# Creating SelfiSegmentation object\n",
    "segmentor = SelfiSegmentation()\n",
    "\n",
    "# To know the frames per second\n",
    "fpsReader = cvzone.FPS()\n",
    "\n",
    "while True:\n",
    "    success, img = cap.read()\n",
    "    imgOut = segmentor.removeBG(img, (0,0,0), threshold=0.9)\n",
    "    imgStacked = cvzone.stackImages([img,imgOut],2,1)\n",
    "    _, imgStacked = fpsReader.update(imgStacked, color = (0, 0, 255))\n",
    "    cv2.imshow(\"Image\", imgStacked)\n",
    "\n",
    "    if cv2.waitKey(1) & 0xFF == ord('q'):\n",
    "        break\n",
    "\n",
    "cap.release()\n",
    "cv2.destroyAllWindows\n",
    "    "
   ]
  },
  {
   "cell_type": "code",
   "execution_count": 1,
   "metadata": {},
   "outputs": [],
   "source": [
    "from scipy.spatial import distance as dist \n",
    "def eye_aspect_ratio(eye):\n",
    "\t# Vertical eye landmarks\n",
    "\tA = dist.euclidean(eye[1], eye[5])\n",
    "\tB = dist.euclidean(eye[2], eye[4])\n",
    "\t# Horizontal eye landmarks \n",
    "\tC = dist.euclidean(eye[0], eye[3])\n",
    "\n",
    "\t# The EAR Equation \n",
    "\tEAR = (A + B) / (2.0 * C)\n",
    "\treturn EAR\n",
    "\n",
    "def mouth_aspect_ratio(mouth): \n",
    "\tA = dist.euclidean(mouth[13], mouth[19])\n",
    "\tB = dist.euclidean(mouth[14], mouth[18])\n",
    "\tC = dist.euclidean(mouth[15], mouth[17])\n",
    "\n",
    "\tMAR = (A + B + C) / 3.0\n",
    "\treturn MAR"
   ]
  },
  {
   "cell_type": "code",
   "execution_count": 13,
   "metadata": {},
   "outputs": [
    {
     "ename": "AttributeError",
     "evalue": "module 'cv2' has no attribute 'release'",
     "output_type": "error",
     "traceback": [
      "\u001b[1;31m---------------------------------------------------------------------------\u001b[0m",
      "\u001b[1;31mAttributeError\u001b[0m                            Traceback (most recent call last)",
      "\u001b[1;32mc:\\Users\\91797\\Desktop\\Self Code\\DetectingHumansAndRemovingBackground.ipynb Cell 6\u001b[0m in \u001b[0;36m<cell line: 32>\u001b[1;34m()\u001b[0m\n\u001b[0;32m     <a href='vscode-notebook-cell:/c%3A/Users/91797/Desktop/Self%20Code/DetectingHumansAndRemovingBackground.ipynb#ch0000010?line=27'>28</a>\u001b[0m     \u001b[39mif\u001b[39;00m cv2\u001b[39m.\u001b[39mwaitKey(\u001b[39m1\u001b[39m) \u001b[39m&\u001b[39m \u001b[39m0xFF\u001b[39m \u001b[39m==\u001b[39m \u001b[39mord\u001b[39m(\u001b[39m'\u001b[39m\u001b[39mq\u001b[39m\u001b[39m'\u001b[39m):\n\u001b[0;32m     <a href='vscode-notebook-cell:/c%3A/Users/91797/Desktop/Self%20Code/DetectingHumansAndRemovingBackground.ipynb#ch0000010?line=28'>29</a>\u001b[0m         \u001b[39mbreak\u001b[39;00m\n\u001b[1;32m---> <a href='vscode-notebook-cell:/c%3A/Users/91797/Desktop/Self%20Code/DetectingHumansAndRemovingBackground.ipynb#ch0000010?line=31'>32</a>\u001b[0m cv2\u001b[39m.\u001b[39;49mrelease()\n\u001b[0;32m     <a href='vscode-notebook-cell:/c%3A/Users/91797/Desktop/Self%20Code/DetectingHumansAndRemovingBackground.ipynb#ch0000010?line=32'>33</a>\u001b[0m cv2\u001b[39m.\u001b[39mdestroyAllWindows\n",
      "\u001b[1;31mAttributeError\u001b[0m: module 'cv2' has no attribute 'release'"
     ]
    }
   ],
   "source": [
    "import cv2\n",
    "import numpy as np\n",
    "import cvzone\n",
    "from cvzone.SelfiSegmentationModule import SelfiSegmentation\n",
    "import os\n",
    "\n",
    "cap = cv2.VideoCapture(0)\n",
    "cap.set(3, 640)\n",
    "cap.set(4, 480)\n",
    "\n",
    "segmentor = SelfiSegmentation()\n",
    "\n",
    "fpsReader = cvzone.FPS()\n",
    "\n",
    "while True:\n",
    "    success, img = cap.read()\n",
    "    imgOut = segmentor.removeBG(img, (0,0,0), threshold=0.7)\n",
    "    imgStacked = cvzone.stackImages([img,imgOut],2,1)\n",
    "    _, imgStacked = fpsReader.update(imgStacked, color = (0, 0, 255))\n",
    "    hsv = cv2.cvtColor(imgStacked, cv2.COLOR_BGR2HSV)\n",
    "    lower_range = np.array([169,100,100])\n",
    "    upper_range = np.array([189,255,255])\n",
    "    mask = cv2.inRange(hsv, lower_range, upper_range)\n",
    "    imgStacked = cvzone.stackImages([img, imgOut, mask],3,1)\n",
    "\n",
    "    cv2.imshow(\"Redness of Mouth\", imgStacked)\n",
    "\n",
    "    if cv2.waitKey(1) & 0xFF == ord('q'):\n",
    "        break\n",
    "\n",
    "\n",
    "cv2.release()\n",
    "cv2.destroyAllWindows"
   ]
  },
  {
   "cell_type": "code",
   "execution_count": 3,
   "metadata": {},
   "outputs": [
    {
     "ename": "AttributeError",
     "evalue": "module 'cv2' has no attribute 'release'",
     "output_type": "error",
     "traceback": [
      "\u001b[1;31m---------------------------------------------------------------------------\u001b[0m",
      "\u001b[1;31mAttributeError\u001b[0m                            Traceback (most recent call last)",
      "\u001b[1;32mc:\\Users\\91797\\Desktop\\Self Code\\DetectingHumansAndRemovingBackground.ipynb Cell 7\u001b[0m in \u001b[0;36m<cell line: 31>\u001b[1;34m()\u001b[0m\n\u001b[0;32m     <a href='vscode-notebook-cell:/c%3A/Users/91797/Desktop/Self%20Code/DetectingHumansAndRemovingBackground.ipynb#ch0000028?line=26'>27</a>\u001b[0m     \u001b[39mif\u001b[39;00m cv2\u001b[39m.\u001b[39mwaitKey(\u001b[39m1\u001b[39m) \u001b[39m&\u001b[39m \u001b[39m0xFF\u001b[39m \u001b[39m==\u001b[39m \u001b[39mord\u001b[39m(\u001b[39m'\u001b[39m\u001b[39mq\u001b[39m\u001b[39m'\u001b[39m):\n\u001b[0;32m     <a href='vscode-notebook-cell:/c%3A/Users/91797/Desktop/Self%20Code/DetectingHumansAndRemovingBackground.ipynb#ch0000028?line=27'>28</a>\u001b[0m         \u001b[39mbreak\u001b[39;00m\n\u001b[1;32m---> <a href='vscode-notebook-cell:/c%3A/Users/91797/Desktop/Self%20Code/DetectingHumansAndRemovingBackground.ipynb#ch0000028?line=30'>31</a>\u001b[0m cv2\u001b[39m.\u001b[39;49mrelease()\n\u001b[0;32m     <a href='vscode-notebook-cell:/c%3A/Users/91797/Desktop/Self%20Code/DetectingHumansAndRemovingBackground.ipynb#ch0000028?line=31'>32</a>\u001b[0m cv2\u001b[39m.\u001b[39mdestroyAllWindows\n",
      "\u001b[1;31mAttributeError\u001b[0m: module 'cv2' has no attribute 'release'"
     ]
    }
   ],
   "source": [
    "\n",
    "import cv2\n",
    "import numpy as np\n",
    "import cvzone\n",
    "from cvzone.SelfiSegmentationModule import SelfiSegmentation\n",
    "import os\n",
    "\n",
    "cap = cv2.VideoCapture(0)\n",
    "cap.set(3, 640)\n",
    "cap.set(4, 480)\n",
    "\n",
    "segmentor = SelfiSegmentation()\n",
    "\n",
    "fpsReader = cvzone.FPS()\n",
    "\n",
    "while True:\n",
    "    success, img = cap.read()\n",
    "    imgOut = segmentor.removeBG(img, (0,0,0), threshold=0.99)\n",
    "    hsv = cv2.cvtColor(imgOut, cv2.COLOR_BGR2HSV)\n",
    "    lower_range = np.array([150,100,100])\n",
    "    upper_range = np.array([359,255,255])\n",
    "    mask = cv2.inRange(hsv, lower_range, upper_range)\n",
    "    imgStacked = cvzone.stackImages([img, imgOut, mask],3,1)\n",
    "    _, imgStacked = fpsReader.update(imgStacked, color = (0, 0, 255))\n",
    "\n",
    "    cv2.imshow(\"Redness of Mouth\", imgStacked)\n",
    "\n",
    "    if cv2.waitKey(1) & 0xFF == ord('q'):\n",
    "        break\n",
    "\n",
    "\n",
    "cv2.release()\n",
    "cv2.destroyAllWindows\n"
   ]
  },
  {
   "cell_type": "code",
   "execution_count": null,
   "metadata": {},
   "outputs": [],
   "source": [
    "detector = dlib.get_frontal_face_detector()\n",
    "predictor = dlib.shape_predictor(\"C:/Users/91797/Downloads/shape_predictor_68_face_landmarks.dat\")\n",
    "\n",
    "while True:\n",
    "    _, frame = cap.read()\n",
    "    gray = cv2.cvtColor(frame, cv2.COLOR_BGR2GRAY)\n",
    "    faces = detector(gray)\n",
    "    for face in faces:\n",
    "        x1 = face.left()\n",
    "        y1 = face.top()\n",
    "        x2 = face.right()\n",
    "        y2 = face.bottom()\n",
    "        landmarks = predictor(gray, face)\n",
    "        for n in range(0, 68):\n",
    "            x = landmarks.part(n).x\n",
    "            y = landmarks.part(n).y\n",
    "            cv2.circle(frame, (x, y), 4, (0, 255, 0), -1)\n",
    "            "
   ]
  },
  {
   "cell_type": "code",
   "execution_count": 5,
   "metadata": {},
   "outputs": [
    {
     "ename": "AttributeError",
     "evalue": "module 'cv2' has no attribute 'release'",
     "output_type": "error",
     "traceback": [
      "\u001b[1;31m---------------------------------------------------------------------------\u001b[0m",
      "\u001b[1;31mAttributeError\u001b[0m                            Traceback (most recent call last)",
      "\u001b[1;32mc:\\Users\\91797\\Desktop\\Self Code\\DetectingHumansAndRemovingBackground.ipynb Cell 9\u001b[0m in \u001b[0;36m<cell line: 48>\u001b[1;34m()\u001b[0m\n\u001b[0;32m     <a href='vscode-notebook-cell:/c%3A/Users/91797/Desktop/Self%20Code/DetectingHumansAndRemovingBackground.ipynb#ch0000033?line=43'>44</a>\u001b[0m     \u001b[39mif\u001b[39;00m cv2\u001b[39m.\u001b[39mwaitKey(\u001b[39m1\u001b[39m) \u001b[39m&\u001b[39m \u001b[39m0xFF\u001b[39m \u001b[39m==\u001b[39m \u001b[39mord\u001b[39m(\u001b[39m'\u001b[39m\u001b[39mq\u001b[39m\u001b[39m'\u001b[39m):\n\u001b[0;32m     <a href='vscode-notebook-cell:/c%3A/Users/91797/Desktop/Self%20Code/DetectingHumansAndRemovingBackground.ipynb#ch0000033?line=44'>45</a>\u001b[0m         \u001b[39mbreak\u001b[39;00m\n\u001b[1;32m---> <a href='vscode-notebook-cell:/c%3A/Users/91797/Desktop/Self%20Code/DetectingHumansAndRemovingBackground.ipynb#ch0000033?line=47'>48</a>\u001b[0m cv2\u001b[39m.\u001b[39;49mrelease()\n\u001b[0;32m     <a href='vscode-notebook-cell:/c%3A/Users/91797/Desktop/Self%20Code/DetectingHumansAndRemovingBackground.ipynb#ch0000033?line=48'>49</a>\u001b[0m cv2\u001b[39m.\u001b[39mdestroyAllWindows\n",
      "\u001b[1;31mAttributeError\u001b[0m: module 'cv2' has no attribute 'release'"
     ]
    }
   ],
   "source": [
    "import cv2\n",
    "import numpy as np\n",
    "import cvzone\n",
    "from cvzone.SelfiSegmentationModule import SelfiSegmentation\n",
    "import os\n",
    "import dlib\n",
    "\n",
    "cap = cv2.VideoCapture(0)\n",
    "cap.set(3, 640)\n",
    "cap.set(4, 480)\n",
    "cap.set(cv2.CAP_PROP_FPS, 60)\n",
    "\n",
    "segmentor = SelfiSegmentation()\n",
    "detector = dlib.get_frontal_face_detector()\n",
    "predictor = dlib.shape_predictor(\"C:/Users/91797/Downloads/shape_predictor_68_face_landmarks.dat\")\n",
    "\n",
    "fpsReader = cvzone.FPS()\n",
    "\n",
    "while True:\n",
    "    success, img = cap.read()\n",
    "    imgOut = segmentor.removeBG(img, (0,0,0), threshold=0.99)\n",
    "    #_, frame = cap.read()\n",
    "    gray = cv2.cvtColor(imgOut, cv2.COLOR_BGR2GRAY)\n",
    "    faces = detector(gray)\n",
    "    for face in faces:\n",
    "        x1 = face.left()\n",
    "        y1 = face.top()\n",
    "        x2 = face.right()\n",
    "        y2 = face.bottom()\n",
    "        landmarks = predictor(gray, face)\n",
    "        for n in range(0, 68):\n",
    "            x = landmarks.part(n).x\n",
    "            y = landmarks.part(n).y\n",
    "            cv2.circle(imgOut, (x, y), 4, (0, 0, 255), -1)\n",
    "    hsv = cv2.cvtColor(imgOut, cv2.COLOR_BGR2HSV)\n",
    "    lower_range = np.array([150,100,100])\n",
    "    upper_range = np.array([359,255,255])\n",
    "    mask = cv2.inRange(hsv, lower_range, upper_range)\n",
    "    imgStacked = cvzone.stackImages([img, imgOut, mask],3,1)\n",
    "    _, imgStacked = fpsReader.update(imgStacked, color = (0, 0, 255))\n",
    "\n",
    "    cv2.imshow(\"Redness of Mouth\", imgStacked)\n",
    "\n",
    "    if cv2.waitKey(1) & 0xFF == ord('q'):\n",
    "        break\n",
    "\n",
    "\n",
    "cv2.release()\n",
    "cv2.destroyAllWindows"
   ]
  },
  {
   "cell_type": "code",
   "execution_count": 3,
   "metadata": {},
   "outputs": [
    {
     "ename": "error",
     "evalue": "OpenCV(4.6.0) D:\\a\\opencv-python\\opencv-python\\opencv\\modules\\imgproc\\src\\color.cpp:182: error: (-215:Assertion failed) !_src.empty() in function 'cv::cvtColor'\n",
     "output_type": "error",
     "traceback": [
      "\u001b[1;31m---------------------------------------------------------------------------\u001b[0m",
      "\u001b[1;31merror\u001b[0m                                     Traceback (most recent call last)",
      "\u001b[1;32mc:\\Users\\91797\\Desktop\\Self Code\\DetectingHumansAndRemovingBackground.ipynb Cell 10\u001b[0m in \u001b[0;36m<cell line: 19>\u001b[1;34m()\u001b[0m\n\u001b[0;32m     <a href='vscode-notebook-cell:/c%3A/Users/91797/Desktop/Self%20Code/DetectingHumansAndRemovingBackground.ipynb#ch0000009?line=18'>19</a>\u001b[0m \u001b[39mwhile\u001b[39;00m \u001b[39mTrue\u001b[39;00m:\n\u001b[0;32m     <a href='vscode-notebook-cell:/c%3A/Users/91797/Desktop/Self%20Code/DetectingHumansAndRemovingBackground.ipynb#ch0000009?line=19'>20</a>\u001b[0m     success, img \u001b[39m=\u001b[39m cap\u001b[39m.\u001b[39mread()\n\u001b[1;32m---> <a href='vscode-notebook-cell:/c%3A/Users/91797/Desktop/Self%20Code/DetectingHumansAndRemovingBackground.ipynb#ch0000009?line=20'>21</a>\u001b[0m     imgOut \u001b[39m=\u001b[39m segmentor\u001b[39m.\u001b[39;49mremoveBG(img, (\u001b[39m0\u001b[39;49m,\u001b[39m0\u001b[39;49m,\u001b[39m0\u001b[39;49m), threshold\u001b[39m=\u001b[39;49m\u001b[39m0.99\u001b[39;49m)\n\u001b[0;32m     <a href='vscode-notebook-cell:/c%3A/Users/91797/Desktop/Self%20Code/DetectingHumansAndRemovingBackground.ipynb#ch0000009?line=21'>22</a>\u001b[0m     \u001b[39m#_, frame = cap.read()\u001b[39;00m\n\u001b[0;32m     <a href='vscode-notebook-cell:/c%3A/Users/91797/Desktop/Self%20Code/DetectingHumansAndRemovingBackground.ipynb#ch0000009?line=22'>23</a>\u001b[0m     gray \u001b[39m=\u001b[39m cv2\u001b[39m.\u001b[39mcvtColor(imgOut, cv2\u001b[39m.\u001b[39mCOLOR_BGR2GRAY)\n",
      "File \u001b[1;32m~\\AppData\\Local\\Packages\\PythonSoftwareFoundation.Python.3.10_qbz5n2kfra8p0\\LocalCache\\local-packages\\Python310\\site-packages\\cvzone\\SelfiSegmentationModule.py:25\u001b[0m, in \u001b[0;36mSelfiSegmentation.removeBG\u001b[1;34m(self, img, imgBg, threshold)\u001b[0m\n\u001b[0;32m     17\u001b[0m \u001b[39mdef\u001b[39;00m \u001b[39mremoveBG\u001b[39m(\u001b[39mself\u001b[39m, img, imgBg\u001b[39m=\u001b[39m(\u001b[39m255\u001b[39m, \u001b[39m255\u001b[39m, \u001b[39m255\u001b[39m), threshold\u001b[39m=\u001b[39m\u001b[39m0.1\u001b[39m):\n\u001b[0;32m     18\u001b[0m     \u001b[39m\"\"\"\u001b[39;00m\n\u001b[0;32m     19\u001b[0m \n\u001b[0;32m     20\u001b[0m \u001b[39m    :param img: image to remove background from\u001b[39;00m\n\u001b[1;32m   (...)\u001b[0m\n\u001b[0;32m     23\u001b[0m \u001b[39m    :return:\u001b[39;00m\n\u001b[0;32m     24\u001b[0m \u001b[39m    \"\"\"\u001b[39;00m\n\u001b[1;32m---> 25\u001b[0m     imgRGB \u001b[39m=\u001b[39m cv2\u001b[39m.\u001b[39;49mcvtColor(img, cv2\u001b[39m.\u001b[39;49mCOLOR_BGR2RGB)\n\u001b[0;32m     26\u001b[0m     results \u001b[39m=\u001b[39m \u001b[39mself\u001b[39m\u001b[39m.\u001b[39mselfieSegmentation\u001b[39m.\u001b[39mprocess(imgRGB)\n\u001b[0;32m     27\u001b[0m     condition \u001b[39m=\u001b[39m np\u001b[39m.\u001b[39mstack(\n\u001b[0;32m     28\u001b[0m         (results\u001b[39m.\u001b[39msegmentation_mask,) \u001b[39m*\u001b[39m \u001b[39m3\u001b[39m, axis\u001b[39m=\u001b[39m\u001b[39m-\u001b[39m\u001b[39m1\u001b[39m) \u001b[39m>\u001b[39m threshold\n",
      "\u001b[1;31merror\u001b[0m: OpenCV(4.6.0) D:\\a\\opencv-python\\opencv-python\\opencv\\modules\\imgproc\\src\\color.cpp:182: error: (-215:Assertion failed) !_src.empty() in function 'cv::cvtColor'\n"
     ]
    }
   ],
   "source": [
    "import cv2\n",
    "import numpy as np\n",
    "import cvzone\n",
    "from cvzone.SelfiSegmentationModule import SelfiSegmentation\n",
    "import os\n",
    "import dlib\n",
    "\n",
    "cap = cv2.VideoCapture(0)\n",
    "cap.set(3, 640)\n",
    "cap.set(4, 480)\n",
    "cap.set(cv2.CAP_PROP_FPS, 60)\n",
    "\n",
    "segmentor = SelfiSegmentation()\n",
    "detector = dlib.get_frontal_face_detector()\n",
    "predictor = dlib.shape_predictor(\"C:/Users/91797/Downloads/shape_predictor_68_face_landmarks.dat\")\n",
    "\n",
    "fpsReader = cvzone.FPS()\n",
    "\n",
    "while True:\n",
    "    success, img = cap.read()\n",
    "    imgOut = segmentor.removeBG(img, (0,0,0), threshold=0.99)\n",
    "    #_, frame = cap.read()\n",
    "    gray = cv2.cvtColor(imgOut, cv2.COLOR_BGR2GRAY)\n",
    "    faces = detector(gray)\n",
    "    for face in faces:\n",
    "        x1 = face.left()\n",
    "        y1 = face.top()\n",
    "        x2 = face.right()\n",
    "        y2 = face.bottom()\n",
    "        landmarks = predictor(gray, face)\n",
    "        for n in range(0, 68):\n",
    "            x = landmarks.part(n).x\n",
    "            y = landmarks.part(n).y\n",
    "            cv2.circle(imgOut, (x, y), 4, (0, 0, 255), -1)\n",
    "    hsv = cv2.cvtColor(img, cv2.COLOR_BGR2HSV)\n",
    "    lower_range = np.array([150,100,100])\n",
    "    upper_range = np.array([359,255,255])\n",
    "    mask = cv2.inRange(hsv, lower_range, upper_range)\n",
    "    imgStacked = cvzone.stackImages([img, imgOut, mask],3,1)\n",
    "    _, imgStacked = fpsReader.update(imgStacked, color = (0, 0, 255))\n",
    "\n",
    "    cv2.imshow(\"Redness of Mouth\", imgStacked)\n",
    "\n",
    "    if cv2.waitKey(1) & 0xFF == ord('q'):\n",
    "        break\n",
    "\n",
    "cv2.release()\n",
    "cv2.destroyAllWindows"
   ]
  },
  {
   "cell_type": "code",
   "execution_count": 4,
   "metadata": {},
   "outputs": [],
   "source": [
    "def mouth_aspect_ratio(mouth): \n",
    "\tA = dist.euclidean(mouth[13], mouth[19])\n",
    "\tB = dist.euclidean(mouth[14], mouth[18])\n",
    "\tC = dist.euclidean(mouth[15], mouth[17])\n",
    "\tMAR = (A + B + C) / 3.0\n",
    "\treturn MAR"
   ]
  },
  {
   "cell_type": "code",
   "execution_count": 1,
   "metadata": {},
   "outputs": [],
   "source": [
    "import cv2\n",
    "import numpy as np\n",
    "import cvzone\n",
    "from cvzone.SelfiSegmentationModule import SelfiSegmentation\n",
    "import os\n",
    "import dlib\n",
    "\n",
    "cap = cv2.VideoCapture(0)\n",
    "cap.set(3, 640)\n",
    "cap.set(4, 480)\n",
    "cap.set(cv2.CAP_PROP_FPS, 60)\n",
    "\n",
    "segmentor = SelfiSegmentation()\n",
    "detector = dlib.get_frontal_face_detector()\n",
    "predictor = dlib.shape_predictor(\"C:/Users/91797/Downloads/shape_predictor_68_face_landmarks.dat\")\n",
    "\n",
    "fpsReader = cvzone.FPS()\n",
    "\n",
    "while True:\n",
    "    success, img = cap.read()\n",
    "    imgOut = segmentor.removeBG(img, (0,0,0), threshold=0.99)\n",
    "    #_, frame = cap.read()\n",
    "    gray = cv2.cvtColor(imgOut, cv2.COLOR_BGR2GRAY)\n",
    "    faces = detector(gray)\n",
    "\n",
    "    b, g, r = cv2.split(img)\n",
    "    wb = b == 255\n",
    "    wg = g == 255\n",
    "    wr = r == 255\n",
    "\n",
    "    for face in faces:\n",
    "        x1 = face.left()\n",
    "        y1 = face.top()\n",
    "        x2 = face.right()\n",
    "        y2 = face.bottom()\n",
    "        landmarks = predictor(gray, face)\n",
    "        for n in range(0, 68):\n",
    "            x = landmarks.part(n).x\n",
    "            y = landmarks.part(n).y\n",
    "            cv2.circle(imgOut, (x, y), 4, (0, 0, 255), -1)\n",
    "    hsv = cv2.cvtColor(img, cv2.COLOR_BGR2HSV)\n",
    "    lower_range = np.array([150,100,100])\n",
    "    upper_range = np.array([359,255,255])\n",
    "    mask = cv2.inRange(hsv, lower_range, upper_range)\n",
    "\n",
    "    white_pixels_if_true = np.bitwise_and(wb, np.bitwise_and(wg, wr))\n",
    "    img_size = r.size\n",
    "    white_pixels_count = np.sum(white_pixels_if_true)\n",
    "    white_area_ratio = white_pixels_count / img_size\n",
    "\n",
    "    imgStacked = cvzone.stackImages([img, imgOut, mask],3,1)\n",
    "    _, imgStacked = fpsReader.update(imgStacked, color = (0, 0, 255))\n",
    "    if (white_area_ratio >= 0.00001):\n",
    "        font = cv2.FONT_HERSHEY_SIMPLEX\n",
    "        cv2.putText(imgStacked, 'Drowsy Alert', (50,150), font, 1, (0,255,255),2,cv2.LINE_4)\n",
    "    cv2.imshow(\"Redness of Mouth\", imgStacked)\n",
    "\n",
    "    if cv2.waitKey(1) & 0xFF == ord('q'):\n",
    "        break\n",
    "\n",
    "cv2.release()\n",
    "cv2.destroyAllWindows"
   ]
  },
  {
   "cell_type": "markdown",
   "metadata": {},
   "source": []
  },
  {
   "cell_type": "code",
   "execution_count": null,
   "metadata": {},
   "outputs": [],
   "source": []
  }
 ],
 "metadata": {
  "kernelspec": {
   "display_name": "Python 3.10.5 64-bit (windows store)",
   "language": "python",
   "name": "python3"
  },
  "language_info": {
   "codemirror_mode": {
    "name": "ipython",
    "version": 3
   },
   "file_extension": ".py",
   "mimetype": "text/x-python",
   "name": "python",
   "nbconvert_exporter": "python",
   "pygments_lexer": "ipython3",
   "version": "3.10.6"
  },
  "orig_nbformat": 4,
  "vscode": {
   "interpreter": {
    "hash": "7206d9cf27c9f9965bb6fdf58ea61da73aba6f4d7790064b23988dbb93ff37c7"
   }
  }
 },
 "nbformat": 4,
 "nbformat_minor": 2
}
